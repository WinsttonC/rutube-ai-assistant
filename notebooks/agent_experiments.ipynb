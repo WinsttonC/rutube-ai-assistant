{
 "cells": [
  {
   "cell_type": "markdown",
   "metadata": {},
   "source": [
    "### Настройка LLM"
   ]
  },
  {
   "cell_type": "code",
   "execution_count": 3,
   "metadata": {},
   "outputs": [],
   "source": [
    "import os\n",
    "from dotenv import load_dotenv\n",
    "from openai import OpenAI\n",
    "OPENAI_API_KEY = os.getenv('OPENAI_API_KEY')\n",
    "client = OpenAI(\n",
    "    api_key=OPENAI_API_KEY,\n",
    "    base_url=\"https://api.proxyapi.ru/openai/v1\",\n",
    ")\n",
    "\n"
   ]
  },
  {
   "cell_type": "code",
   "execution_count": 12,
   "metadata": {},
   "outputs": [],
   "source": [
    "class LLM:\n",
    "    OPENAI_API_KEY = os.getenv('OPENAI_API_KEY')\n",
    "\n",
    "    def __init__(self, model, system_prompt):\n",
    "        self.model = model\n",
    "        self.system_prompt = system_prompt\n",
    "        self.client = OpenAI(api_key=OPENAI_API_KEY, base_url=\"https://api.proxyapi.ru/openai/v1\")\n",
    "        self.messages = [{'role': 'system', 'content': system_prompt}]\n",
    "    \n",
    "    def chat(self, user_input):\n",
    "        self.messages.append({'role': 'user', 'content': user_input})\n",
    "        answer = self.client.chat.completions.create(model=self.model, messages=self.messages)\n",
    "        answer = answer.choices[0].message.content\n",
    "        self.messages.append({'role': 'assistant', 'content': answer})\n",
    "        return answer\n",
    "\n"
   ]
  },
  {
   "cell_type": "markdown",
   "metadata": {},
   "source": [
    "### Определение ситуации, в которой данный блок может быть полезен"
   ]
  },
  {
   "cell_type": "code",
   "execution_count": 56,
   "metadata": {},
   "outputs": [],
   "source": [
    "system = \"\"\"\n",
    "Изучи фрагмент юридического документа - пользовательского соглашения сервиса Rutube.\n",
    "Напиши, в каком случае этот фрагмент может быть полезен пользователю сервиса.\n",
    "Выведи только список возможных ситуаций-обращений\n",
    "\"\"\""
   ]
  },
  {
   "cell_type": "code",
   "execution_count": 57,
   "metadata": {},
   "outputs": [],
   "source": [
    "llm = LLM(\"gpt-4o-mini\", system)"
   ]
  },
  {
   "cell_type": "code",
   "execution_count": 58,
   "metadata": {},
   "outputs": [],
   "source": [
    "doc_block = '''\n",
    "В случае если у Пользователя возникают проблемы с использованием RUTUBE, Стороны понимают и соглашаются, что \n",
    "Пользователь обязан до обращения с претензией к Администрации ознакомиться с информацией, указанной на следующей странице: https://rutube.ru/info/faq/. \n",
    "В случае если информация на указанной странице не помогла, Пользователь вправе обратиться c претензией к Администрации по адресу, указанному в п.12.5 \n",
    "Соглашения, которую Администрация рассматривает в течение 30 (Тридцати) дней с момента получения. \n",
    "Стороны согласились, что все споры, возникающие из отношений Сторон, будут разрешаться в суде по месту нахождения \n",
    "Администрации с обязательным соблюдением досудебного претензионного порядка урегулирования споров\n",
    "'''"
   ]
  },
  {
   "cell_type": "code",
   "execution_count": 59,
   "metadata": {},
   "outputs": [],
   "source": [
    "answer = llm.chat(doc_block)"
   ]
  },
  {
   "cell_type": "code",
   "execution_count": 60,
   "metadata": {},
   "outputs": [
    {
     "name": "stdout",
     "output_type": "stream",
     "text": [
      "1. Пользователь столкнулся с техническими проблемами при использовании сервиса Rutube.\n",
      "2. Пользователь не нашел ответ на свой вопрос в разделе FAQ на сайте Rutube.\n",
      "3. Пользователь хочет подать претензию к администрации сервиса.\n",
      "4. Пользователь нуждается в разъяснении условий пользовательского соглашения.\n",
      "5. Пользователь желает узнать, как урегулировать споры с администрацией. \n",
      "6. Пользователь хочет узнать сроки рассмотрения своей претензии.\n"
     ]
    }
   ],
   "source": [
    "print(answer)"
   ]
  },
  {
   "cell_type": "markdown",
   "metadata": {},
   "source": [
    "### Саммари блока документа"
   ]
  },
  {
   "cell_type": "code",
   "execution_count": 71,
   "metadata": {},
   "outputs": [],
   "source": [
    "system = \"\"\"\n",
    "Изучи переданный фрагмент документа - пользовательского соглашения сервиса Rutube.\n",
    "Напиши в одном предлажении тему данного фрагмента.\n",
    "В ответ выведи только тему\n",
    "\"\"\""
   ]
  },
  {
   "cell_type": "code",
   "execution_count": 72,
   "metadata": {},
   "outputs": [],
   "source": [
    "llm = LLM(\"gpt-4o-mini\", system)"
   ]
  },
  {
   "cell_type": "code",
   "execution_count": 73,
   "metadata": {},
   "outputs": [],
   "source": [
    "doc_block = '''В случае если у Пользователя возникают проблемы с использованием RUTUBE, Стороны понимают и соглашаются, что \n",
    "Пользователь обязан до обращения с претензией к Администрации ознакомиться с информацией, указанной на следующей странице: https://rutube.ru/info/faq/. \n",
    "В случае если информация на указанной странице не помогла, Пользователь вправе обратиться c претензией к Администрации по адресу, указанному в п.12.5 \n",
    "Соглашения, которую Администрация рассматривает в течение 30 (Тридцати) дней с момента получения. \n",
    "Стороны согласились, что все споры, возникающие из отношений Сторон, будут разрешаться в суде по месту нахождения \n",
    "Администрации с обязательным соблюдением досудебного претензионного порядка урегулирования споров'''"
   ]
  },
  {
   "cell_type": "code",
   "execution_count": 74,
   "metadata": {},
   "outputs": [],
   "source": [
    "answer = llm.chat(doc_block)"
   ]
  },
  {
   "cell_type": "code",
   "execution_count": 75,
   "metadata": {},
   "outputs": [
    {
     "name": "stdout",
     "output_type": "stream",
     "text": [
      "Процедура урегулирования проблем и претензий пользователей сервиса RUTUBE.\n"
     ]
    }
   ],
   "source": [
    "print(answer)"
   ]
  },
  {
   "cell_type": "markdown",
   "metadata": {},
   "source": [
    "### Тестовая сборка v1"
   ]
  },
  {
   "cell_type": "code",
   "execution_count": null,
   "metadata": {},
   "outputs": [],
   "source": [
    "import json"
   ]
  }
 ],
 "metadata": {
  "kernelspec": {
   "display_name": "venv",
   "language": "python",
   "name": "python3"
  },
  "language_info": {
   "codemirror_mode": {
    "name": "ipython",
    "version": 3
   },
   "file_extension": ".py",
   "mimetype": "text/x-python",
   "name": "python",
   "nbconvert_exporter": "python",
   "pygments_lexer": "ipython3",
   "version": "3.11.3"
  }
 },
 "nbformat": 4,
 "nbformat_minor": 2
}
