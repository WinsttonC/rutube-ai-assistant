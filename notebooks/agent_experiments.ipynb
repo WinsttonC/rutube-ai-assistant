{
 "cells": [
  {
   "cell_type": "markdown",
   "metadata": {},
   "source": [
    "### Настройка LLM"
   ]
  },
  {
   "cell_type": "code",
   "execution_count": 1,
   "metadata": {},
   "outputs": [],
   "source": [
    "import os\n",
    "from dotenv import load_dotenv\n",
    "from openai import OpenAI\n",
    "OPENAI_API_KEY = os.getenv('OPENAI_API_KEY')\n",
    "client = OpenAI(\n",
    "    api_key=OPENAI_API_KEY,\n",
    "    base_url=\"https://api.proxyapi.ru/openai/v1\",\n",
    ")\n",
    "\n"
   ]
  },
  {
   "cell_type": "code",
   "execution_count": 2,
   "metadata": {},
   "outputs": [],
   "source": [
    "class LLM:\n",
    "    OPENAI_API_KEY = os.getenv('OPENAI_API_KEY')\n",
    "\n",
    "    def __init__(self, model, system_prompt):\n",
    "        self.model = model\n",
    "        self.system_prompt = system_prompt\n",
    "        self.client = OpenAI(api_key=OPENAI_API_KEY, base_url=\"https://api.proxyapi.ru/openai/v1\")\n",
    "        self.messages = [{'role': 'system', 'content': system_prompt}]\n",
    "    \n",
    "    def chat(self, user_input):\n",
    "        self.messages.append({'role': 'user', 'content': user_input})\n",
    "        answer = self.client.chat.completions.create(model=self.model, messages=self.messages)\n",
    "        answer = answer.choices[0].message.content\n",
    "        self.messages.append({'role': 'assistant', 'content': answer})\n",
    "        return answer\n",
    "\n"
   ]
  },
  {
   "cell_type": "markdown",
   "metadata": {},
   "source": [
    "### Определение ситуации, в которой данный блок может быть полезен"
   ]
  },
  {
   "cell_type": "code",
   "execution_count": 56,
   "metadata": {},
   "outputs": [],
   "source": [
    "system = \"\"\"\n",
    "Изучи фрагмент юридического документа - пользовательского соглашения сервиса Rutube.\n",
    "Напиши, в каком случае этот фрагмент может быть полезен пользователю сервиса.\n",
    "Выведи только список возможных ситуаций-обращений\n",
    "\"\"\""
   ]
  },
  {
   "cell_type": "code",
   "execution_count": 57,
   "metadata": {},
   "outputs": [],
   "source": [
    "llm = LLM(\"gpt-4o-mini\", system)"
   ]
  },
  {
   "cell_type": "code",
   "execution_count": 58,
   "metadata": {},
   "outputs": [],
   "source": [
    "doc_block = '''\n",
    "В случае если у Пользователя возникают проблемы с использованием RUTUBE, Стороны понимают и соглашаются, что \n",
    "Пользователь обязан до обращения с претензией к Администрации ознакомиться с информацией, указанной на следующей странице: https://rutube.ru/info/faq/. \n",
    "В случае если информация на указанной странице не помогла, Пользователь вправе обратиться c претензией к Администрации по адресу, указанному в п.12.5 \n",
    "Соглашения, которую Администрация рассматривает в течение 30 (Тридцати) дней с момента получения. \n",
    "Стороны согласились, что все споры, возникающие из отношений Сторон, будут разрешаться в суде по месту нахождения \n",
    "Администрации с обязательным соблюдением досудебного претензионного порядка урегулирования споров\n",
    "'''"
   ]
  },
  {
   "cell_type": "code",
   "execution_count": 59,
   "metadata": {},
   "outputs": [],
   "source": [
    "answer = llm.chat(doc_block)"
   ]
  },
  {
   "cell_type": "code",
   "execution_count": 60,
   "metadata": {},
   "outputs": [
    {
     "name": "stdout",
     "output_type": "stream",
     "text": [
      "1. Пользователь столкнулся с техническими проблемами при использовании сервиса Rutube.\n",
      "2. Пользователь не нашел ответ на свой вопрос в разделе FAQ на сайте Rutube.\n",
      "3. Пользователь хочет подать претензию к администрации сервиса.\n",
      "4. Пользователь нуждается в разъяснении условий пользовательского соглашения.\n",
      "5. Пользователь желает узнать, как урегулировать споры с администрацией. \n",
      "6. Пользователь хочет узнать сроки рассмотрения своей претензии.\n"
     ]
    }
   ],
   "source": [
    "print(answer)"
   ]
  },
  {
   "cell_type": "markdown",
   "metadata": {},
   "source": [
    "### Саммари блока документа"
   ]
  },
  {
   "cell_type": "code",
   "execution_count": 71,
   "metadata": {},
   "outputs": [],
   "source": [
    "system = \"\"\"\n",
    "Изучи переданный фрагмент документа - пользовательского соглашения сервиса Rutube.\n",
    "Напиши в одном предлажении тему данного фрагмента.\n",
    "В ответ выведи только тему\n",
    "\"\"\""
   ]
  },
  {
   "cell_type": "code",
   "execution_count": 72,
   "metadata": {},
   "outputs": [],
   "source": [
    "llm = LLM(\"gpt-4o-mini\", system)"
   ]
  },
  {
   "cell_type": "code",
   "execution_count": 73,
   "metadata": {},
   "outputs": [],
   "source": [
    "doc_block = '''В случае если у Пользователя возникают проблемы с использованием RUTUBE, Стороны понимают и соглашаются, что \n",
    "Пользователь обязан до обращения с претензией к Администрации ознакомиться с информацией, указанной на следующей странице: https://rutube.ru/info/faq/. \n",
    "В случае если информация на указанной странице не помогла, Пользователь вправе обратиться c претензией к Администрации по адресу, указанному в п.12.5 \n",
    "Соглашения, которую Администрация рассматривает в течение 30 (Тридцати) дней с момента получения. \n",
    "Стороны согласились, что все споры, возникающие из отношений Сторон, будут разрешаться в суде по месту нахождения \n",
    "Администрации с обязательным соблюдением досудебного претензионного порядка урегулирования споров'''"
   ]
  },
  {
   "cell_type": "code",
   "execution_count": 74,
   "metadata": {},
   "outputs": [],
   "source": [
    "answer = llm.chat(doc_block)"
   ]
  },
  {
   "cell_type": "code",
   "execution_count": 75,
   "metadata": {},
   "outputs": [
    {
     "name": "stdout",
     "output_type": "stream",
     "text": [
      "Процедура урегулирования проблем и претензий пользователей сервиса RUTUBE.\n"
     ]
    }
   ],
   "source": [
    "print(answer)"
   ]
  },
  {
   "cell_type": "markdown",
   "metadata": {},
   "source": [
    "### Summary 2"
   ]
  },
  {
   "cell_type": "code",
   "execution_count": 34,
   "metadata": {},
   "outputs": [],
   "source": [
    "import pandas as pd\n",
    "df = pd.read_csv(r'C:\\Users\\Winston\\Documents\\GitHub\\rutube-ai-assistant\\data\\concat_data.csv')\n",
    "df_test = pd.read_csv(r'C:\\Users\\Winston\\Documents\\GitHub\\rutube-ai-assistant\\data\\query_answer.csv')\n",
    "doc = df['concat'].iloc[0]\n",
    "q = df_test['Вопрос пользователя'].iloc[0]"
   ]
  },
  {
   "cell_type": "code",
   "execution_count": 30,
   "metadata": {},
   "outputs": [],
   "source": [
    "system = \"\"\"\n",
    "Представь, что тебе нужно определить, в какой ситуации может пригодиться \n",
    "переданный фрагмент текста и о чем он. Эта информация будет использоваться \n",
    "для поиска релевантных ответов к вопросу пользователя. \n",
    "Подумай и выведи одно предложение.\n",
    "\n",
    "Текст:\n",
    "\"\"\""
   ]
  },
  {
   "cell_type": "code",
   "execution_count": 31,
   "metadata": {},
   "outputs": [],
   "source": [
    "llm = LLM(\"gpt-4o-mini\", system)"
   ]
  },
  {
   "cell_type": "code",
   "execution_count": 32,
   "metadata": {},
   "outputs": [],
   "source": [
    "answer = llm.chat(doc)"
   ]
  },
  {
   "cell_type": "code",
   "execution_count": 33,
   "metadata": {},
   "outputs": [
    {
     "name": "stdout",
     "output_type": "stream",
     "text": [
      "Как загрузить видеоролик на сайт?\n",
      "\n",
      "1. Зарегистрируйтесь или авторизуйтесь на RUTUBE.\n",
      "2. Нажмите на значок загрузки (символ «плеера со знаком плюс») в правом верхнем углу экрана или пройдите по этой ссылке: https://studio.rutube.ru/uploader/\n",
      "3. Выберите на вашем устройстве видеофайл, который хотите загрузить.\n",
      "4. Укажите название и описание, выберите категорию ролика.\n",
      "5. Настройте доступ к видео.\n",
      "Если хотите, чтобы ваш ролик могли посмотреть только те, с кем вы им поделились, в поле \"Параметры доступа\" выберите вариант «Только по ссылке». Такой ролик не будет находиться в поиске, и другие пользователи не увидят его в списке ваших роликов. Обратите внимание: если вы отправите кому-то ссылку на ролик, то получатель может ею поделиться с другими. \n",
      "\n",
      "\n",
      "Данный текст содержит пошаговую инструкцию по загрузке видеороликов на сайт RUTUBE и может быть полезен пользователям, которые хотят узнать, как правильно разместить свои видео на этой платформе.\n"
     ]
    }
   ],
   "source": [
    "print(doc, '\\n\\n')\n",
    "print(answer)"
   ]
  },
  {
   "cell_type": "code",
   "execution_count": null,
   "metadata": {},
   "outputs": [],
   "source": []
  },
  {
   "cell_type": "code",
   "execution_count": null,
   "metadata": {},
   "outputs": [],
   "source": []
  },
  {
   "cell_type": "markdown",
   "metadata": {},
   "source": [
    "### Extract information"
   ]
  },
  {
   "cell_type": "code",
   "execution_count": 19,
   "metadata": {},
   "outputs": [],
   "source": [
    "import pandas as pd\n",
    "df = pd.read_csv(r'C:\\Users\\Winston\\Documents\\GitHub\\rutube-ai-assistant\\data\\concat_data.csv')\n",
    "doc = df['concat'].iloc[0]"
   ]
  },
  {
   "cell_type": "code",
   "execution_count": 20,
   "metadata": {},
   "outputs": [],
   "source": [
    "system = \"\"\"\n",
    "Пожалуйста, разбейте следующий текст на простые, автономные утверждения. Убедитесь, что каждое утверждение соответствует следующим критериям:\n",
    "\n",
    "Выражает один факт: Каждое утверждение должно содержать один конкретный факт или утверждение.\n",
    "Понятно без контекста: Утверждение должно быть автономным, то есть его можно понять без дополнительного контекста.\n",
    "Используйте полные имена, а не местоимения: Избегайте местоимений или неоднозначных ссылок; используйте полные имена сущностей.\n",
    "Включайте соответствующие даты/уточняющие данные: Если применимо, добавляйте необходимые даты, время и уточняющие данные, чтобы сделать факт точным.\n",
    "Содержит одну субъектно-предикатную связь: Сосредоточьтесь на одном субъекте и его действии или признаке, избегайте союзов и сложных предложений.\n",
    "\n",
    "Текст:\n",
    "\"\"\""
   ]
  },
  {
   "cell_type": "code",
   "execution_count": 21,
   "metadata": {},
   "outputs": [],
   "source": [
    "llm = LLM(\"gpt-4o-mini\", system)"
   ]
  },
  {
   "cell_type": "code",
   "execution_count": 22,
   "metadata": {},
   "outputs": [],
   "source": [
    "answer = llm.chat(doc)"
   ]
  },
  {
   "cell_type": "code",
   "execution_count": 23,
   "metadata": {},
   "outputs": [
    {
     "name": "stdout",
     "output_type": "stream",
     "text": [
      "Как загрузить видеоролик на сайт?\n",
      "\n",
      "1. Зарегистрируйтесь или авторизуйтесь на RUTUBE.\n",
      "2. Нажмите на значок загрузки (символ «плеера со знаком плюс») в правом верхнем углу экрана или пройдите по этой ссылке: https://studio.rutube.ru/uploader/\n",
      "3. Выберите на вашем устройстве видеофайл, который хотите загрузить.\n",
      "4. Укажите название и описание, выберите категорию ролика.\n",
      "5. Настройте доступ к видео.\n",
      "Если хотите, чтобы ваш ролик могли посмотреть только те, с кем вы им поделились, в поле \"Параметры доступа\" выберите вариант «Только по ссылке». Такой ролик не будет находиться в поиске, и другие пользователи не увидят его в списке ваших роликов. Обратите внимание: если вы отправите кому-то ссылку на ролик, то получатель может ею поделиться с другими. \n",
      "\n",
      "\n",
      "1. Пользователь должен зарегистрироваться или авторизоваться на сайте RUTUBE.  \n",
      "2. Пользователь должен нажать на значок загрузки в правом верхнем углу экрана.  \n",
      "3. Пользователь может перейти по ссылке https://studio.rutube.ru/uploader/.  \n",
      "4. Пользователь должен выбрать видеофайл на своем устройстве для загрузки.  \n",
      "5. Пользователь должен указать название и описание загружаемого видео.  \n",
      "6. Пользователь должен выбрать категорию для ролика.  \n",
      "7. Пользователь должен настроить доступ к видео.  \n",
      "8. Пользователь может выбрать вариант «Только по ссылке» в поле \"Параметры доступа\".  \n",
      "9. Ролик с настроенным доступом «Только по ссылке» не будет находиться в поиске.  \n",
      "10. Другие пользователи не увидят ролик в списке роликов пользователя.  \n",
      "11. Получатель ссылки на ролик может поделиться этой ссылкой с другими.  \n"
     ]
    }
   ],
   "source": [
    "print(doc, '\\n\\n')\n",
    "print(answer)"
   ]
  },
  {
   "cell_type": "markdown",
   "metadata": {},
   "source": [
    "### Rewrite user query\n"
   ]
  },
  {
   "cell_type": "code",
   "execution_count": 74,
   "metadata": {},
   "outputs": [],
   "source": [
    "import pandas as pd\n",
    "df = pd.read_csv(r'C:\\Users\\Winston\\Documents\\GitHub\\rutube-ai-assistant\\data\\concat_data.csv')\n",
    "df_test = pd.read_csv(r'C:\\Users\\Winston\\Documents\\GitHub\\rutube-ai-assistant\\data\\query_answer.csv')\n",
    "doc = df['concat'].iloc[0]\n",
    "q = df_test['Вопрос пользователя'].iloc[0]"
   ]
  },
  {
   "cell_type": "code",
   "execution_count": 75,
   "metadata": {},
   "outputs": [],
   "source": [
    "themes = '\\n'.join(df['Классификатор 2 уровня'].unique())"
   ]
  },
  {
   "cell_type": "code",
   "execution_count": 76,
   "metadata": {},
   "outputs": [],
   "source": [
    "system = f\"\"\"\n",
    "Тебе передана QA база данных компании Rutube.\n",
    "Твоя задача - исходя из запроса пользователя определить,\n",
    "какая информация из базы знаний нужна, чтобы ответить на его вопрос.\n",
    "Дополнительно к рекомендациям выбери одну или несколько тем, к которой может относится вопрос.\n",
    "\n",
    "Темы: {themes}\n",
    "\n",
    "Вопрос пользователя:\n",
    "\"\"\""
   ]
  },
  {
   "cell_type": "markdown",
   "metadata": {},
   "source": [
    "2 версия с выводом JSON"
   ]
  },
  {
   "cell_type": "code",
   "execution_count": null,
   "metadata": {},
   "outputs": [],
   "source": [
    "system = f\"\"\"\n",
    "Тебе передана QA база данных компании Rutube.\n",
    "Твоя задача - исходя из запроса пользователя определить,\n",
    "какая информация из базы знаний нужна, чтобы ответить на его вопрос.\n",
    "Дополнительно к рекомендациям выбери одну или несколько тем, к которой может относится вопрос.\n",
    "\n",
    "Ответ нужно вернуть в формате JSON с ключами:\n",
    "info - информация, которая может потребоваться для ответа на вопрос\n",
    "themes - список из одной или нескольких тем\n",
    "\n",
    "Темы: {themes}\n",
    "\n",
    "Вопрос пользователя:\n",
    "\"\"\""
   ]
  },
  {
   "cell_type": "code",
   "execution_count": 77,
   "metadata": {},
   "outputs": [],
   "source": [
    "llm = LLM(\"gpt-4o-mini\", system)"
   ]
  },
  {
   "cell_type": "code",
   "execution_count": 64,
   "metadata": {},
   "outputs": [],
   "source": [
    "answer = llm.chat(q)"
   ]
  },
  {
   "cell_type": "code",
   "execution_count": 65,
   "metadata": {},
   "outputs": [
    {
     "name": "stdout",
     "output_type": "stream",
     "text": [
      "Здравствуйте! Можно уточнить причины Правилhttps://rutube.ru/info/taboo_agreement/ по которым удаляются ролики? что за нарушение правил RUTUBE ‌ ‌ ‌ ‌ ‌ ‌ ‌ ‌ ‌ ‌ ‌ ‌ ‌ ‌ ‌ ‌ ‌ ‌ ‌ ‌ ‌ ‌ ‌ ‌ ‌ ‌ ‌ ‌ ‌ ‌ ‌ ‌ ‌ ‌ ‌ ‌ ‌ ‌ ‌ ‌ ‌ ‌ ‌ ‌ ‌ ‌ ‌ ‌ ‌ ‌ ‌ ‌ ‌ ‌ ‌ ‌ ‌ ‌ ‌ ‌ ‌ ‌ ‌ ‌ ‌ ‌ ‌ ‌ ‌ ‌ ‌ ‌ ‌ ‌ ‌ ‌ ‌ ‌ ‌ ‌ ‌ ‌ ‌ ‌ ‌ ‌ ‌ ‌ ‌ ‌ ‌ ‌ ‌ ‌ ‌ ‌ ‌ ‌ ‌ ‌ ‌ ‌ ‌ ‌ ‌ ‌ ‌ ‌ ‌ ‌ ‌ ‌ ‌ ‌ ‌ ‌ ‌ ‌ ‌ ‌ ‌ ‌ ‌ ‌ ‌ ‌ ‌ ‌ ‌ ‌ ‌ ‌ ‌ ‌ ‌ ‌ ‌ ‌ ‌ ‌ ‌ ‌ ‌ ‌ ‌  \n",
      "\n",
      "\n",
      "Для ответа на ваш вопрос потребуется информация о правилах и причинах удаления видео, которые перечислены в соглашении о запретах на сайте Rutube.\n",
      "\n",
      "Темы, к которым может относиться ваш вопрос:\n",
      "- Отклонение/блокировка видео\n",
      "- Запрещенный контент\n"
     ]
    }
   ],
   "source": [
    "print(q, '\\n\\n')\n",
    "print(answer)"
   ]
  },
  {
   "cell_type": "markdown",
   "metadata": {},
   "source": [
    "### Тесты на датасете"
   ]
  },
  {
   "cell_type": "code",
   "execution_count": 69,
   "metadata": {},
   "outputs": [],
   "source": [
    "from langchain.retrievers import BM25Retriever, EnsembleRetriever"
   ]
  },
  {
   "cell_type": "code",
   "execution_count": 68,
   "metadata": {},
   "outputs": [
    {
     "data": {
      "text/plain": [
       "0      Категория вопроса: Загрузка видео\\nВопрос: Как...\n",
       "1      Категория вопроса: Персонализация 0\\nВопрос: Д...\n",
       "2      Категория вопроса: Управление трансляцией\\nВоп...\n",
       "3      Категория вопроса: Загрузка видео\\nВопрос: Пра...\n",
       "4      Категория вопроса: Воспроизведение видео\\nВопр...\n",
       "                             ...                        \n",
       "300    Категория вопроса: Недоступность видео\\nВопрос...\n",
       "301    Категория вопроса: Регистрация/Авторизация\\nВо...\n",
       "302    Категория вопроса: Отсутствует\\nВопрос: Что та...\n",
       "303    Категория вопроса: Управление трансляцией\\nВоп...\n",
       "304    Категория вопроса: Регистрация/Авторизация\\nВо...\n",
       "Name: concat, Length: 305, dtype: object"
      ]
     },
     "execution_count": 68,
     "metadata": {},
     "output_type": "execute_result"
    }
   ],
   "source": [
    "import pandas as pd\n",
    "df = pd.read_csv(r'C:\\Users\\Winston\\Documents\\GitHub\\rutube-ai-assistant\\data\\concat_data.csv')\n",
    "df_test = pd.read_csv(r'C:\\Users\\Winston\\Documents\\GitHub\\rutube-ai-assistant\\data\\query_answer.csv')"
   ]
  },
  {
   "cell_type": "code",
   "execution_count": 88,
   "metadata": {},
   "outputs": [],
   "source": [
    "c_df = pd.merge(df_sample, df, on='Ответ из БЗ', how='left')"
   ]
  },
  {
   "cell_type": "code",
   "execution_count": 114,
   "metadata": {},
   "outputs": [],
   "source": [
    "df_sample = df_test.sample(9)"
   ]
  },
  {
   "cell_type": "code",
   "execution_count": 115,
   "metadata": {},
   "outputs": [],
   "source": [
    "retriever = BM25Retriever.from_texts(df['Ответ из БЗ'])"
   ]
  },
  {
   "cell_type": "code",
   "execution_count": 116,
   "metadata": {},
   "outputs": [
    {
     "data": {
      "text/plain": [
       "0.0"
      ]
     },
     "execution_count": 116,
     "metadata": {},
     "output_type": "execute_result"
    }
   ],
   "source": [
    "def chunk_acc(row):\n",
    "    q = row['Вопрос пользователя']\n",
    "    q = llm.chat(q)\n",
    "    chunks = retriever.invoke(q)\n",
    "    chunks = [d.page_content for d in chunks]\n",
    "    row['chunks'] = chunks\n",
    "    acc = 0\n",
    "\n",
    "    for chunk in chunks:\n",
    "        if row['Ответ из БЗ'] in chunk:\n",
    "            acc = 1\n",
    "    row['accuracy'] = acc\n",
    "    return row\n",
    "\n",
    "df_sample = df_sample.apply(chunk_acc, axis=1)\n",
    "df_sample['accuracy'].mean()"
   ]
  },
  {
   "cell_type": "code",
   "execution_count": 104,
   "metadata": {},
   "outputs": [
    {
     "data": {
      "text/plain": [
       "'Какие требования к оформлению контента на вашей платформе для продвижения?'"
      ]
     },
     "execution_count": 104,
     "metadata": {},
     "output_type": "execute_result"
    }
   ],
   "source": [
    "c_df[c_df['accuracy'] == 0].iloc[0, 0]"
   ]
  },
  {
   "cell_type": "code",
   "execution_count": 108,
   "metadata": {},
   "outputs": [
    {
     "data": {
      "text/plain": [
       "['Продвижение канала',\n",
       " 'Продвижение канала',\n",
       " 'Продвижение канала',\n",
       " 'Продвижение канала']"
      ]
     },
     "execution_count": 108,
     "metadata": {},
     "output_type": "execute_result"
    }
   ],
   "source": [
    "c_df[c_df['accuracy'] == 0].iloc[0, 6]"
   ]
  }
 ],
 "metadata": {
  "kernelspec": {
   "display_name": "venv",
   "language": "python",
   "name": "python3"
  },
  "language_info": {
   "codemirror_mode": {
    "name": "ipython",
    "version": 3
   },
   "file_extension": ".py",
   "mimetype": "text/x-python",
   "name": "python",
   "nbconvert_exporter": "python",
   "pygments_lexer": "ipython3",
   "version": "3.11.3"
  }
 },
 "nbformat": 4,
 "nbformat_minor": 2
}
