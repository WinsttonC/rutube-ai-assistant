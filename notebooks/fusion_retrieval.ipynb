{
 "cells": [
  {
   "cell_type": "markdown",
   "metadata": {},
   "source": [
    "### Import libraries "
   ]
  },
  {
   "cell_type": "code",
   "execution_count": 10,
   "metadata": {},
   "outputs": [],
   "source": [
    "from openai import OpenAI\n",
    "OPENAI_API_KEY = os.getenv('OPENAI_API_KEY')\n",
    "client = OpenAI(\n",
    "    api_key=OPENAI_API_KEY,\n",
    "    base_url=\"https://api.proxyapi.ru/openai/v1\",\n",
    ")\n",
    "\n",
    "chat_completion = client.chat.completions.create(\n",
    "    model=\"gpt-4o-mini\", messages=[{\"role\": \"user\", \"content\": \"Hello world\"}]\n",
    ")"
   ]
  },
  {
   "cell_type": "code",
   "execution_count": 1,
   "metadata": {},
   "outputs": [
    {
     "name": "stderr",
     "output_type": "stream",
     "text": [
      "/Users/kartashoffv/Documents/pet-projects/test/venv/lib/python3.10/site-packages/deepeval/__init__.py:49: UserWarning: You are using deepeval version 1.1.6, however version 1.3.2 is available. You should consider upgrading via the \"pip install --upgrade deepeval\" command.\n",
      "  warnings.warn(\n"
     ]
    }
   ],
   "source": [
    "import os\n",
    "import sys\n",
    "from langchain.docstore.document import Document\n",
    "\n",
    "from typing import List\n",
    "from rank_bm25 import BM25Okapi\n",
    "import numpy as np\n",
    "\n",
    "\n",
    "sys.path.append(os.path.abspath(os.path.join(os.getcwd(), '..'))) # Add the parent directory to the path sicnce we work with notebooks\n",
    "from helper_functions import *\n",
    "from evalute_rag import *\n",
    "\n",
    "from dotenv import load_dotenv\n",
    "load_dotenv()\n",
    "# Load environment variables from a .env file\n",
    "\n",
    "# Set the OpenAI API key environment variable\n",
    "os.environ[\"OPENAI_API_KEY\"] = os.getenv('OPENAI_API_KEY')"
   ]
  },
  {
   "cell_type": "code",
   "execution_count": 35,
   "metadata": {},
   "outputs": [
    {
     "data": {
      "text/html": [
       "<div>\n",
       "<style scoped>\n",
       "    .dataframe tbody tr th:only-of-type {\n",
       "        vertical-align: middle;\n",
       "    }\n",
       "\n",
       "    .dataframe tbody tr th {\n",
       "        vertical-align: top;\n",
       "    }\n",
       "\n",
       "    .dataframe thead th {\n",
       "        text-align: right;\n",
       "    }\n",
       "</style>\n",
       "<table border=\"1\" class=\"dataframe\">\n",
       "  <thead>\n",
       "    <tr style=\"text-align: right;\">\n",
       "      <th></th>\n",
       "      <th>Вопрос пользователя</th>\n",
       "      <th>Ответ сотрудника</th>\n",
       "      <th>Вопрос из БЗ</th>\n",
       "      <th>Ответ из БЗ</th>\n",
       "      <th>Классификатор 1 уровня</th>\n",
       "      <th>Классификатор 2 уровня</th>\n",
       "      <th>concated_query_question</th>\n",
       "      <th>concated_query_answer</th>\n",
       "    </tr>\n",
       "  </thead>\n",
       "  <tbody>\n",
       "    <tr>\n",
       "      <th>0</th>\n",
       "      <td>Здравствуйте! Можно уточнить причины Правилhtt...</td>\n",
       "      <td>Добрый день!\\nЧто нельзя публиковать на RUTUBE...</td>\n",
       "      <td>Что нельзя публиковать на RUTUBE?</td>\n",
       "      <td>Чужой контент без разрешения автора или правоо...</td>\n",
       "      <td>МОДЕРАЦИЯ</td>\n",
       "      <td>Отклонение/блокировка видео</td>\n",
       "      <td>[МОДЕРАЦИЯ, Отклонение/блокировка видео]\\Запро...</td>\n",
       "      <td>[МОДЕРАЦИЯ, Отклонение/блокировка видео]\\nЗапр...</td>\n",
       "    </tr>\n",
       "    <tr>\n",
       "      <th>1</th>\n",
       "      <td>Добрый вечер, какой топ причин блокировки виде...</td>\n",
       "      <td>Добрый вечер!\\nЧто заперщено публиковать на RU...</td>\n",
       "      <td>Что нельзя публиковать на RUTUBE?</td>\n",
       "      <td>Чужой контент без разрешения автора или правоо...</td>\n",
       "      <td>МОДЕРАЦИЯ</td>\n",
       "      <td>Отклонение/блокировка видео</td>\n",
       "      <td>[МОДЕРАЦИЯ, Отклонение/блокировка видео]\\Запро...</td>\n",
       "      <td>[МОДЕРАЦИЯ, Отклонение/блокировка видео]\\nЗапр...</td>\n",
       "    </tr>\n",
       "    <tr>\n",
       "      <th>2</th>\n",
       "      <td>Все пишут, что монетизация на рутубе отключает...</td>\n",
       "      <td>Добрый день! \\nМонетизация может отключиться, ...</td>\n",
       "      <td>Почему могут отключить монетизацию из-за автор...</td>\n",
       "      <td>Монетизация может отключиться, если на вашем к...</td>\n",
       "      <td>МОНЕТИЗАЦИЯ</td>\n",
       "      <td>Отключение/подключение монетизации</td>\n",
       "      <td>[МОНЕТИЗАЦИЯ, Отключение/подключение монетизац...</td>\n",
       "      <td>[МОНЕТИЗАЦИЯ, Отключение/подключение монетизац...</td>\n",
       "    </tr>\n",
       "    <tr>\n",
       "      <th>3</th>\n",
       "      <td>Что запрещено в монетизации и что можно выклад...</td>\n",
       "      <td>Здравствуйте!\\nМонетизация может отключиться, ...</td>\n",
       "      <td>Почему могут отключить монетизацию из-за автор...</td>\n",
       "      <td>Монетизация может отключиться, если на вашем к...</td>\n",
       "      <td>МОНЕТИЗАЦИЯ</td>\n",
       "      <td>Отключение/подключение монетизации</td>\n",
       "      <td>[МОНЕТИЗАЦИЯ, Отключение/подключение монетизац...</td>\n",
       "      <td>[МОНЕТИЗАЦИЯ, Отключение/подключение монетизац...</td>\n",
       "    </tr>\n",
       "    <tr>\n",
       "      <th>4</th>\n",
       "      <td>Чтобы не отключали монетизацию, надо, чтобы я ...</td>\n",
       "      <td>Для монетизации можно использовать то, что вы ...</td>\n",
       "      <td>Почему могут отключить монетизацию из-за автор...</td>\n",
       "      <td>Монетизация может отключиться, если на вашем к...</td>\n",
       "      <td>МОНЕТИЗАЦИЯ</td>\n",
       "      <td>Отключение/подключение монетизации</td>\n",
       "      <td>[МОНЕТИЗАЦИЯ, Отключение/подключение монетизац...</td>\n",
       "      <td>[МОНЕТИЗАЦИЯ, Отключение/подключение монетизац...</td>\n",
       "    </tr>\n",
       "  </tbody>\n",
       "</table>\n",
       "</div>"
      ],
      "text/plain": [
       "                                 Вопрос пользователя  \\\n",
       "0  Здравствуйте! Можно уточнить причины Правилhtt...   \n",
       "1  Добрый вечер, какой топ причин блокировки виде...   \n",
       "2  Все пишут, что монетизация на рутубе отключает...   \n",
       "3  Что запрещено в монетизации и что можно выклад...   \n",
       "4  Чтобы не отключали монетизацию, надо, чтобы я ...   \n",
       "\n",
       "                                    Ответ сотрудника  \\\n",
       "0  Добрый день!\\nЧто нельзя публиковать на RUTUBE...   \n",
       "1  Добрый вечер!\\nЧто заперщено публиковать на RU...   \n",
       "2  Добрый день! \\nМонетизация может отключиться, ...   \n",
       "3  Здравствуйте!\\nМонетизация может отключиться, ...   \n",
       "4  Для монетизации можно использовать то, что вы ...   \n",
       "\n",
       "                                        Вопрос из БЗ  \\\n",
       "0                  Что нельзя публиковать на RUTUBE?   \n",
       "1                  Что нельзя публиковать на RUTUBE?   \n",
       "2  Почему могут отключить монетизацию из-за автор...   \n",
       "3  Почему могут отключить монетизацию из-за автор...   \n",
       "4  Почему могут отключить монетизацию из-за автор...   \n",
       "\n",
       "                                         Ответ из БЗ Классификатор 1 уровня  \\\n",
       "0  Чужой контент без разрешения автора или правоо...              МОДЕРАЦИЯ   \n",
       "1  Чужой контент без разрешения автора или правоо...              МОДЕРАЦИЯ   \n",
       "2  Монетизация может отключиться, если на вашем к...            МОНЕТИЗАЦИЯ   \n",
       "3  Монетизация может отключиться, если на вашем к...            МОНЕТИЗАЦИЯ   \n",
       "4  Монетизация может отключиться, если на вашем к...            МОНЕТИЗАЦИЯ   \n",
       "\n",
       "               Классификатор 2 уровня  \\\n",
       "0         Отклонение/блокировка видео   \n",
       "1         Отклонение/блокировка видео   \n",
       "2  Отключение/подключение монетизации   \n",
       "3  Отключение/подключение монетизации   \n",
       "4  Отключение/подключение монетизации   \n",
       "\n",
       "                             concated_query_question  \\\n",
       "0  [МОДЕРАЦИЯ, Отклонение/блокировка видео]\\Запро...   \n",
       "1  [МОДЕРАЦИЯ, Отклонение/блокировка видео]\\Запро...   \n",
       "2  [МОНЕТИЗАЦИЯ, Отключение/подключение монетизац...   \n",
       "3  [МОНЕТИЗАЦИЯ, Отключение/подключение монетизац...   \n",
       "4  [МОНЕТИЗАЦИЯ, Отключение/подключение монетизац...   \n",
       "\n",
       "                               concated_query_answer  \n",
       "0  [МОДЕРАЦИЯ, Отклонение/блокировка видео]\\nЗапр...  \n",
       "1  [МОДЕРАЦИЯ, Отклонение/блокировка видео]\\nЗапр...  \n",
       "2  [МОНЕТИЗАЦИЯ, Отключение/подключение монетизац...  \n",
       "3  [МОНЕТИЗАЦИЯ, Отключение/подключение монетизац...  \n",
       "4  [МОНЕТИЗАЦИЯ, Отключение/подключение монетизац...  "
      ]
     },
     "execution_count": 35,
     "metadata": {},
     "output_type": "execute_result"
    }
   ],
   "source": [
    "import pandas as pd\n",
    "df = pd.read_excel(\"/Users/kartashoffv/Documents/pet-projects/test/rutube_helper_train/rag/02_Реальные_кейсы.xlsx\")\n",
    "df['concated_query_question'] = \"[\" + df['Классификатор 1 уровня'] + \", \" + df['Классификатор 2 уровня'] + \"]\" + \"\\Запрос: \" + df['Вопрос пользователя'] \n",
    "df['concated_query_answer'] =\"[\" + df['Классификатор 1 уровня'] + \", \" + df['Классификатор 2 уровня'] + \"]\" + \"\\nЗапрос: \" + df['Вопрос из БЗ'] + \"\\nОтвет: \" + df['Ответ из БЗ'] \n",
    "df.head()"
   ]
  },
  {
   "cell_type": "code",
   "execution_count": 70,
   "metadata": {},
   "outputs": [],
   "source": [
    "from langchain_community.embeddings import HuggingFaceEmbeddings\n",
    "\n",
    "df['ids'] = [f\"id_{i}\" for i in range(len(df))]\n",
    "df['sources'] = [f\"link_{i}\" for i in range(len(df))]\n",
    "\n",
    "test_data = {\n",
    "    \"docs\": df[\"concated_query_answer\"].tolist(),\n",
    "    \"sources\": df[\"sources\"].tolist(),\n",
    "    \"ids\": df[\"ids\"].tolist()\n",
    "}\n",
    "# embeddings = OpenAIEmbeddings(\n",
    "#         model=\"text-embedding-3-large\",\n",
    "#         api_key=os.getenv(\"OPENAI_API_KEY\"),\n",
    "#         openai_api_base=\"https://api.proxyapi.ru/openai/v1\"\n",
    "#     )\n",
    "embeddings = HuggingFaceEmbeddings(model_name = \"deepvk/USER-bge-m3\")\n",
    "\n",
    "\n",
    "def create_vectorstore_with_metadata(test_data):\n",
    "    documents = []\n",
    "    for doc, source, doc_id in zip(test_data[\"docs\"], test_data[\"sources\"], test_data[\"ids\"]):\n",
    "        documents.append(Document(page_content=doc, metadata={\"source\": source, \"id\": doc_id}))\n",
    "    \n",
    "    vectorstore = FAISS.from_documents(documents, embeddings)\n",
    "\n",
    "    return vectorstore, documents\n"
   ]
  },
  {
   "cell_type": "markdown",
   "metadata": {},
   "source": [
    "### Create vectorstore and get the chunked documents"
   ]
  },
  {
   "cell_type": "code",
   "execution_count": 38,
   "metadata": {},
   "outputs": [],
   "source": [
    "vectorstore, cleaned_texts = create_vectorstore_with_metadata(test_data)"
   ]
  },
  {
   "cell_type": "markdown",
   "metadata": {},
   "source": [
    "### Create a bm25 index for retrieving documents by keywords"
   ]
  },
  {
   "cell_type": "code",
   "execution_count": 42,
   "metadata": {},
   "outputs": [],
   "source": [
    "def create_bm25_index(documents: List[Document]) -> BM25Okapi:\n",
    "    \"\"\"\n",
    "    Create a BM25 index from the given documents.\n",
    "\n",
    "    BM25 (Best Matching 25) is a ranking function used in information retrieval.\n",
    "    It's based on the probabilistic retrieval framework and is an improvement over TF-IDF.\n",
    "\n",
    "    Args:\n",
    "    documents (List[Document]): List of documents to index.\n",
    "\n",
    "    Returns:\n",
    "    BM25Okapi: An index that can be used for BM25 scoring.\n",
    "    \"\"\"\n",
    "    # Tokenize each document by splitting on whitespace\n",
    "    # This is a simple approach and could be improved with more sophisticated tokenization\n",
    "    tokenized_docs = [doc.page_content.split() for doc in documents]\n",
    "    return BM25Okapi(tokenized_docs)"
   ]
  },
  {
   "cell_type": "code",
   "execution_count": 43,
   "metadata": {},
   "outputs": [],
   "source": [
    "bm25 = create_bm25_index(cleaned_texts) # Create BM25 index from the cleaned texts (chunks)"
   ]
  },
  {
   "cell_type": "markdown",
   "metadata": {},
   "source": [
    "### Define a function that retrieves both semantically and by keyword, normalizes the scores and gets the top k documents"
   ]
  },
  {
   "cell_type": "code",
   "execution_count": 67,
   "metadata": {},
   "outputs": [],
   "source": [
    "# def fusion_retrieval(vectorstore, bm25, query: str, k: int = 5, alpha: float = 0.5) -> List[Document]:\n",
    "#     \"\"\"\n",
    "#     Perform fusion retrieval combining keyword-based (BM25) and vector-based search.\n",
    "\n",
    "#     Args:\n",
    "#     vectorstore (VectorStore): The vectorstore containing the documents.\n",
    "#     bm25 (BM25Okapi): Pre-computed BM25 index.\n",
    "#     query (str): The query string.\n",
    "#     k (int): The number of documents to retrieve.\n",
    "#     alpha (float): The weight for vector search scores (1-alpha will be the weight for BM25 scores).\n",
    "\n",
    "#     Returns:\n",
    "#     List[Document]: The top k documents based on the combined scores.\n",
    "#     \"\"\"\n",
    "#     # Step 1: Get all documents from the vectorstore\n",
    "#     all_docs = vectorstore.similarity_search(\"\", k=vectorstore.index.ntotal)\n",
    "\n",
    "#     # Step 2: Perform BM25 search\n",
    "#     bm25_scores = bm25.get_scores(query.split())\n",
    "\n",
    "#     # Step 3: Perform vector search\n",
    "#     vector_results = vectorstore.similarity_search_with_score(query, k=len(all_docs))\n",
    "    \n",
    "#     # Step 4: Normalize scores\n",
    "#     vector_scores = np.array([score for _, score in vector_results])\n",
    "#     vector_scores = 1 - (vector_scores - np.min(vector_scores)) / (np.max(vector_scores) - np.min(vector_scores))\n",
    "\n",
    "#     bm25_scores = (bm25_scores - np.min(bm25_scores)) / (np.max(bm25_scores) - np.min(bm25_scores))\n",
    "\n",
    "#     # Step 5: Combine scores\n",
    "#     combined_scores = alpha * vector_scores + (1 - alpha) * bm25_scores  \n",
    "\n",
    "#     # Step 6: Rank documents\n",
    "#     sorted_indices = np.argsort(combined_scores)[::-1]\n",
    "    \n",
    "#     # Step 7: Return top k documents\n",
    "#     return [all_docs[i] for i in sorted_indices[:k]]\n",
    "\n",
    "def fusion_retrieval(documents: List[Document], vectorstore, bm25, query: str, k: int = 5, alpha: float = 0.5) -> List[Document]:\n",
    "    \"\"\"\n",
    "    Perform fusion retrieval combining keyword-based (BM25) and vector-based search.\n",
    "\n",
    "    Args:\n",
    "    documents (List[Document]): List of all documents in the same order as the BM25 and vectorstore.\n",
    "    vectorstore (VectorStore): The vectorstore containing the documents.\n",
    "    bm25 (BM25Okapi): Pre-computed BM25 index.\n",
    "    query (str): The query string.\n",
    "    k (int): The number of documents to retrieve.\n",
    "    alpha (float): The weight for vector search scores (1-alpha will be the weight for BM25 scores).\n",
    "\n",
    "    Returns:\n",
    "    List[Document]: The top k documents based on the combined scores.\n",
    "    \"\"\"\n",
    "    # Step 1: Compute BM25 scores for all documents\n",
    "    bm25_scores = bm25.get_scores(query.split())\n",
    "\n",
    "    # Step 2: Compute vector scores for all documents\n",
    "    query_embedding = vectorstore.embedding_function(query)\n",
    "    \n",
    "    # Retrieve embeddings for all documents\n",
    "    document_embeddings = []\n",
    "    for doc in documents:\n",
    "        # Assuming each document has an associated embedding stored or can be retrieved\n",
    "        doc_embedding = vectorstore.embedding_function(doc.page_content)\n",
    "        document_embeddings.append(doc_embedding)\n",
    "    \n",
    "    # Compute cosine similarities between query and all document embeddings\n",
    "    from sklearn.metrics.pairwise import cosine_similarity\n",
    "    vector_scores = cosine_similarity([query_embedding], document_embeddings)[0]\n",
    "    \n",
    "    # Step 3: Normalize scores\n",
    "    vector_scores_norm = (vector_scores - np.min(vector_scores)) / (np.max(vector_scores) - np.min(vector_scores) + 1e-8)\n",
    "    bm25_scores_norm = (bm25_scores - np.min(bm25_scores)) / (np.max(bm25_scores) - np.min(bm25_scores) + 1e-8)\n",
    "\n",
    "    # Step 4: Combine scores\n",
    "    combined_scores = alpha * vector_scores_norm + (1 - alpha) * bm25_scores_norm\n",
    "\n",
    "    # Step 5: Rank documents\n",
    "    sorted_indices = np.argsort(combined_scores)[::-1]\n",
    "\n",
    "    # Step 6: Return top k documents\n",
    "    return [documents[i] for i in sorted_indices[:k]]\n"
   ]
  },
  {
   "cell_type": "code",
   "execution_count": 69,
   "metadata": {},
   "outputs": [
    {
     "ename": "TypeError",
     "evalue": "'HuggingFaceEmbeddings' object is not callable",
     "output_type": "error",
     "traceback": [
      "\u001b[0;31m---------------------------------------------------------------------------\u001b[0m",
      "\u001b[0;31mTypeError\u001b[0m                                 Traceback (most recent call last)",
      "Cell \u001b[0;32mIn[69], line 5\u001b[0m\n\u001b[1;32m      2\u001b[0m bm25 \u001b[38;5;241m=\u001b[39m create_bm25_index(cleaned_texts)\n\u001b[1;32m      4\u001b[0m \u001b[38;5;66;03m# Assuming 'vectorstore' is your vectorstore with an 'embedding_function' attribute\u001b[39;00m\n\u001b[0;32m----> 5\u001b[0m top_docs \u001b[38;5;241m=\u001b[39m \u001b[43mfusion_retrieval\u001b[49m\u001b[43m(\u001b[49m\u001b[43mcleaned_texts\u001b[49m\u001b[43m,\u001b[49m\u001b[43m \u001b[49m\u001b[43mvectorstore\u001b[49m\u001b[43m,\u001b[49m\u001b[43m \u001b[49m\u001b[43mbm25\u001b[49m\u001b[43m,\u001b[49m\u001b[43m \u001b[49m\u001b[43mquery\u001b[49m\u001b[43m,\u001b[49m\u001b[43m \u001b[49m\u001b[43mk\u001b[49m\u001b[38;5;241;43m=\u001b[39;49m\u001b[38;5;241;43m5\u001b[39;49m\u001b[43m,\u001b[49m\u001b[43m \u001b[49m\u001b[43malpha\u001b[49m\u001b[38;5;241;43m=\u001b[39;49m\u001b[38;5;241;43m0.5\u001b[39;49m\u001b[43m)\u001b[49m\n\u001b[1;32m      6\u001b[0m top_docs\n\u001b[1;32m      7\u001b[0m \u001b[38;5;66;03m# Now, 'top_docs' should contain the documents that best match your query,\u001b[39;00m\n\u001b[1;32m      8\u001b[0m \u001b[38;5;66;03m# including those with classification labels like (МОДЕРАЦИЯ, Отклонение/блокировка видео)\u001b[39;00m\n",
      "Cell \u001b[0;32mIn[67], line 58\u001b[0m, in \u001b[0;36mfusion_retrieval\u001b[0;34m(documents, vectorstore, bm25, query, k, alpha)\u001b[0m\n\u001b[1;32m     55\u001b[0m bm25_scores \u001b[38;5;241m=\u001b[39m bm25\u001b[38;5;241m.\u001b[39mget_scores(query\u001b[38;5;241m.\u001b[39msplit())\n\u001b[1;32m     57\u001b[0m \u001b[38;5;66;03m# Step 2: Compute vector scores for all documents\u001b[39;00m\n\u001b[0;32m---> 58\u001b[0m query_embedding \u001b[38;5;241m=\u001b[39m \u001b[43mvectorstore\u001b[49m\u001b[38;5;241;43m.\u001b[39;49m\u001b[43membedding_function\u001b[49m\u001b[43m(\u001b[49m\u001b[43mquery\u001b[49m\u001b[43m)\u001b[49m\n\u001b[1;32m     60\u001b[0m \u001b[38;5;66;03m# Retrieve embeddings for all documents\u001b[39;00m\n\u001b[1;32m     61\u001b[0m document_embeddings \u001b[38;5;241m=\u001b[39m []\n",
      "\u001b[0;31mTypeError\u001b[0m: 'HuggingFaceEmbeddings' object is not callable"
     ]
    }
   ],
   "source": [
    "# Assuming 'documents' is your list of Document objects\n",
    "bm25 = create_bm25_index(cleaned_texts)\n",
    "\n",
    "# Assuming 'vectorstore' is your vectorstore with an 'embedding_function' attribute\n",
    "top_docs = fusion_retrieval(cleaned_texts, vectorstore, bm25, query, k=5, alpha=0.5)\n",
    "top_docs\n",
    "# Now, 'top_docs' should contain the documents that best match your query,\n",
    "# including those with classification labels like (МОДЕРАЦИЯ, Отклонение/блокировка видео)\n"
   ]
  },
  {
   "cell_type": "markdown",
   "metadata": {},
   "source": [
    "### Use Case example"
   ]
  },
  {
   "cell_type": "code",
   "execution_count": 46,
   "metadata": {},
   "outputs": [],
   "source": [
    "concated_query = df.iloc[0]['concated_query_question']\n",
    "basic_q = df.iloc[0]['Вопрос пользователя']"
   ]
  },
  {
   "cell_type": "code",
   "execution_count": 12,
   "metadata": {},
   "outputs": [
    {
     "name": "stdout",
     "output_type": "stream",
     "text": [
      "Что нельзя публиковать на RUTUBE?\n"
     ]
    }
   ],
   "source": [
    "q = df.iloc[0].question\n",
    "print(q)"
   ]
  },
  {
   "cell_type": "code",
   "execution_count": 57,
   "metadata": {},
   "outputs": [
    {
     "name": "stdout",
     "output_type": "stream",
     "text": [
      "TRUE SRC IS:  link_0 \n",
      "********\n",
      "Context 1:\n",
      "link_204\n",
      "\n",
      "\n",
      "Context 2:\n",
      "link_519\n",
      "\n",
      "\n",
      "Context 3:\n",
      "link_391\n",
      "\n",
      "\n",
      "Context 4:\n",
      "link_362\n",
      "\n",
      "\n",
      "Context 5:\n",
      "link_392\n",
      "\n",
      "\n"
     ]
    }
   ],
   "source": [
    "print(\"TRUE SRC IS: \", df.iloc[0]['sources'], \"\\n********\")\n",
    "basic_q = df.iloc[0]['Вопрос пользователя']\n",
    "\n",
    "# Query\n",
    "query = basic_q\n",
    "\n",
    "# Perform fusion retrieval\n",
    "top_docs = fusion_retrieval(vectorstore, bm25, query, k=5, alpha=0.5)\n",
    "docs_source = [doc.metadata['source'] for doc in top_docs]\n",
    "show_context(docs_source)"
   ]
  },
  {
   "cell_type": "code",
   "execution_count": 66,
   "metadata": {},
   "outputs": [
    {
     "name": "stdout",
     "output_type": "stream",
     "text": [
      "TRUE SRC IS:  link_0 \n",
      "********\n",
      "concated_query is [МОДЕРАЦИЯ, Отклонение/блокировка видео]\\Запрос: Здравствуйте! Можно уточнить причины Правилhttps://rutube.ru/info/taboo_agreement/ по которым удаляются ролики? что за нарушение правил RUTUBE ‌ ‌ ‌ ‌ ‌ ‌ ‌ ‌ ‌ ‌ ‌ ‌ ‌ ‌ ‌ ‌ ‌ ‌ ‌ ‌ ‌ ‌ ‌ ‌ ‌ ‌ ‌ ‌ ‌ ‌ ‌ ‌ ‌ ‌ ‌ ‌ ‌ ‌ ‌ ‌ ‌ ‌ ‌ ‌ ‌ ‌ ‌ ‌ ‌ ‌ ‌ ‌ ‌ ‌ ‌ ‌ ‌ ‌ ‌ ‌ ‌ ‌ ‌ ‌ ‌ ‌ ‌ ‌ ‌ ‌ ‌ ‌ ‌ ‌ ‌ ‌ ‌ ‌ ‌ ‌ ‌ ‌ ‌ ‌ ‌ ‌ ‌ ‌ ‌ ‌ ‌ ‌ ‌ ‌ ‌ ‌ ‌ ‌ ‌ ‌ ‌ ‌ ‌ ‌ ‌ ‌ ‌ ‌ ‌ ‌ ‌ ‌ ‌ ‌ ‌ ‌ ‌ ‌ ‌ ‌ ‌ ‌ ‌ ‌ ‌ ‌ ‌ ‌ ‌ ‌ ‌ ‌ ‌ ‌ ‌ ‌ ‌ ‌ ‌ ‌ ‌ ‌ ‌ ‌ ‌ \n"
     ]
    },
    {
     "data": {
      "text/plain": [
       "[Document(metadata={'source': 'link_437', 'id': 'id_437'}, page_content='[ВИДЕО, Встраивание видео]\\nЗапрос: Какие настройки параметров можно сделать в коде вставки\\nОтвет: После вставки кода видео в код страницы в него можно вносить дополнительные изменения параметров, меняя значения в коде вставки.\\nПодробнее:\\n\\nwidth=\"864\" height=\"486\" — ширина и высота окна плеера,\\nhttps://rutube.ru/play/embed/7716bd3e665725c3c008ae7ab4ff02e2 — эмбедироваванная ссылка на видео,\\nskinColor=e53935 — основной цвет интерфейса (красный),\\nt=300 — время в секундах, с которого начнётся воспроизведение (300 секунд = 5 минут),\\nstopTime=480 — время в секундах, на котором воспроизведение завершится (480 секунд = 8 минут),\\nframeborder — параметр, отвечающий за активацию рамки по периметру окна плеера. Может задаваться значением 1 (вкл) и 0 (выкл, по умолчанию),\\nallow=\"clipboard-write; autoplay\" — параметры управления буфером копирования и автоматическим запуском видео, если выполнены все условия для автоматического запуска.\\nwebkitAllowFullScreen mozallowfullscreen — фрагмент кода, который позволяет запускать плеер в полноэкранном режиме на устаревших версиях браузеров,\\nallowFullScreen — фрагмент кода, отвечающий за активацию функции полноэкранного просмотра из эмбеда. Если его удалить из кода, то функция будет недоступна,\\n<a href=\"https://rutube.ru/video/7716bd3e665725c3c008ae7ab4ff02e2/\">«Тотальный футбол»: топовый дебют Миранчука, как поменять наш футбол – реформы Гогниева</a> — фрагмент кода, который отвечает за отображение названия видео; содержит ссылку на встариваемое видео и его название,\\n<a href=\"//rutube.ru/metainfo/tv/23137/\">Тотальный футбол</a> — фрагмент кода, который отвечает за отображение автора канала, с которого взято видео,\\n<a href=\"https://rutube.ru/\">RUTUBE</a> — фрагмент кода, который отображает ссылку на видеохостинг и название RUTUBE. Добавляется при проставлении галочки «Показывать название видео».'),\n",
       " Document(metadata={'source': 'link_436', 'id': 'id_436'}, page_content='[ВИДЕО, Встраивание видео]\\nЗапрос: Какие настройки параметров можно сделать в коде вставки\\nОтвет: После вставки кода видео в код страницы в него можно вносить дополнительные изменения параметров, меняя значения в коде вставки.\\nПодробнее:\\n\\nwidth=\"864\" height=\"486\" — ширина и высота окна плеера,\\nhttps://rutube.ru/play/embed/7716bd3e665725c3c008ae7ab4ff02e2 — эмбедироваванная ссылка на видео,\\nskinColor=e53935 — основной цвет интерфейса (красный),\\nt=300 — время в секундах, с которого начнётся воспроизведение (300 секунд = 5 минут),\\nstopTime=480 — время в секундах, на котором воспроизведение завершится (480 секунд = 8 минут),\\nframeborder — параметр, отвечающий за активацию рамки по периметру окна плеера. Может задаваться значением 1 (вкл) и 0 (выкл, по умолчанию),\\nallow=\"clipboard-write; autoplay\" — параметры управления буфером копирования и автоматическим запуском видео, если выполнены все условия для автоматического запуска.\\nwebkitAllowFullScreen mozallowfullscreen — фрагмент кода, который позволяет запускать плеер в полноэкранном режиме на устаревших версиях браузеров,\\nallowFullScreen — фрагмент кода, отвечающий за активацию функции полноэкранного просмотра из эмбеда. Если его удалить из кода, то функция будет недоступна,\\n<a href=\"https://rutube.ru/video/7716bd3e665725c3c008ae7ab4ff02e2/\">«Тотальный футбол»: топовый дебют Миранчука, как поменять наш футбол – реформы Гогниева</a> — фрагмент кода, который отвечает за отображение названия видео; содержит ссылку на встариваемое видео и его название,\\n<a href=\"//rutube.ru/metainfo/tv/23137/\">Тотальный футбол</a> — фрагмент кода, который отвечает за отображение автора канала, с которого взято видео,\\n<a href=\"https://rutube.ru/\">RUTUBE</a> — фрагмент кода, который отображает ссылку на видеохостинг и название RUTUBE. Добавляется при проставлении галочки «Показывать название видео».'),\n",
       " Document(metadata={'source': 'link_392', 'id': 'id_392'}, page_content='[ТРАНСЛЯЦИЯ, Управление трансляцией]\\nЗапрос: Как присвоить трансляции (стриму) категорию 18+?\\nОтвет: При создании трансляции можно отметить опцию «18+».'),\n",
       " Document(metadata={'source': 'link_391', 'id': 'id_391'}, page_content='[ТРАНСЛЯЦИЯ, Управление трансляцией]\\nЗапрос: Как присвоить трансляции (стриму) категорию 18+?\\nОтвет: При создании трансляции можно отметить опцию «18+».'),\n",
       " Document(metadata={'source': 'link_362', 'id': 'id_362'}, page_content='[ТРАНСЛЯЦИЯ, Управление трансляцией]\\nЗапрос: Что такое приватная трансляция на RUTUBE?\\nОтвет: Это трансляция, которую можно смотреть только по приглашению автора по специальной ссылке.')]"
      ]
     },
     "execution_count": 66,
     "metadata": {},
     "output_type": "execute_result"
    }
   ],
   "source": [
    "print(\"TRUE SRC IS: \", df.iloc[0]['sources'], \"\\n********\")\n",
    "\n",
    "concated_query = df.iloc[0]['concated_query_question']\n",
    "print(f'concated_query is {concated_query}')\n",
    "\n",
    "# query = concated_query\n",
    "query = concated_query\n",
    "\n",
    "# Perform fusion retrieval\n",
    "top_docs = fusion_retrieval(vectorstore, bm25, query, k=5, alpha=0.5)\n",
    "top_docs"
   ]
  },
  {
   "cell_type": "code",
   "execution_count": 63,
   "metadata": {},
   "outputs": [
    {
     "data": {
      "text/plain": [
       "[Document(metadata={'source': 'link_423', 'id': 'id_423'}, page_content='[ТРАНСЛЯЦИЯ, Управление трансляцией]\\nЗапрос: Как настроить OBS Studio для проведения трансляций на RUTUBE? \\nОтвет: Вывод \\n1.1 ТРАНСЛЯЦИЯ\\n\\nУправление битрейтом – CBR\\n\\nБитрейт – 6000 Kbps\\n\\nИнтервал ключевых кадров – 1s (это обновление кадров)\\n\\nПредустановка использования ЦП– Slower\\n\\nПрофиль – high\\n\\n1.2 ЗАПИСЬ\\n\\nКодировщик видео – выбрать в соответствии с имеющейся видеокартой \\n\\nДля NVIDIA есть соответствующие кодеки:\\n\\n-NVIDIA NVENC H.264\\n\\n-NVIDIA NVENC HEVC\\n\\nДля других видеоадаптеров можно выбрать любой другой\\n\\nУправление битрейтом – CQP\\n\\nЗначение CQ – 15\\n\\nИнтервал ключевых кадров – 2 s\\n\\nПредустановка – Медленное (хорошее качество)\\n\\nРегулировка – Высокое качество\\n\\n1.3 БУФЕР ПОВТОРНА НЕ МЕНЯЕМ\\n\\n\\n\\nАудио\\n2.1 ГЛОБАЛЬНЫЕ УСТРОЙСТВА АУДИО\\n\\nМикрофон/дополнительный звук - тут добавляем микрофон, который подключен к ПК, он будет основным микрофоном на трансляции\\n\\n\\n\\n2.2 ИЗМЕРИТЕЛИ\\n\\nСкорость спада – быстро\\n\\nТип измерителя пиков – Упрощенный\\n\\nВидео\\n3.1 Разрешение ставим, ориентируясь на разрешения вашего экрана ПК. Смотрим в настройках ПК разрешение экрана, выставляем такое же в первых двух полях – «Базовое разрешение» и «Разрешение выхода».\\n\\n3.2 ФИЛЬТР МАСШАБИРОВАНИЯ\\n\\nВсегда ставим – Метод Ланцоша (Четкое масштабирование, 36 выборок)\\n\\nВажно – Фильтр нужно ставить тогда, когда базовое разрешение и разрешение выхода не совпадают.\\n\\n3.3 ОБЩИЕ ЗНАЧЕНИЯ ЧАСТОТЫ КАДРОВ\\n\\nСтавим 60 кадров, на 30 кадрах нет смысла вести трансляцию, по крайней мере, игры на 30 кадрах стримить - плохая идея. 30 кадров – мало, есть вероятность, что картинка будет не очень плавная.\\n\\n3.4 ГОРЯЧИЕ КЛАВИШИ \\n\\nНастраиваем по желанию, но не желательно, если нет опыта, потому что можно случайно завершить трансляцию.\\n\\nПункты в разделе «Горячие клавиши» обновляются в зависимости от добавленных источников на главной странице ОБС. Например, добавляете устройство вывода «Камера», в Горячих клавишах появится пункт «Камера». Пункт добавляется с точно таким же названием как на главном экране.\\n\\nСпец. Возможности \\nНе трогаем.\\n\\nРасширенные\\n5.1 ОБЩИЕ\\n\\nПриоритет процесса – Выше среднего\\n\\n5.2 АВТОМАТИЧЕСКОЕ ПЕРЕПОДКЛЮЧЕНИЕ\\n\\nСтавим галочку в поле «Включить»\\n\\nЗадержка повтора – 1 s\\n\\nЗадержка потока – не трогаем, галочка не должна стоять\\n\\nМакс. повторных попыток – 25 (оставляем стандартное значение)\\n\\n\\n\\nПосле настройки всех настроек жмем «Применить», затем «Ок». Мы настроили программу, теперь нужно добавить Сцены и Источники.\\n\\n\\n\\nСЦЕНЫ\\nДобавляем одну сцену. Называем ее, например, «Трансляция».\\n\\nИСТОЧНИКИ\\nВсе источники добавляются на +. Добавляются любые по желанию, в зависимости от того, что вам нужно. Ниже описаны основные источники.\\n\\n2.1 КАМЕРА\\n\\nНажимаем на +, выбираем «Устройство захвата видео», переименовываем на «Камера». Ставим галочку в поле «Сделать устройство видимым».\\n\\nВыбираем камеру, ее настройки тут не трогаем. Нажимаем «Ок».\\n\\nКамеру можно отзеркалить. Для этого ПКМ (правая кнопка мыши) нажимаем на Камера – Преобразовать – Отразить по горизонтали.\\n\\n2.2 ФОН\\n\\nНажимаем на +, выбираем «Изображение». Можем назвать источник «Фон». Нажимаем на «Обзор», выбираем нужно изображение с вашего ПК, галочки не ставим.\\n\\n2.3 ЗАХВАТ ОКНА\\n\\nИсточник захватывает только открытые приложения. Например, браузер.\\n\\n2.4 ЗАХВАТ ЭКРАНА\\n\\nДанный источник захватывает общую картинку вашего компьютера.\\n\\n2.4 СБОР\\n\\nЕсли у вас настроен донат через сайт донатов, можно добавить плашку на стрим, которая будет отображаться в режиме реального времени. Сбор удобен тем, что зрители видят потребность и цель. Зрители не всегда читают описание трансляции '),\n",
       " Document(metadata={'source': 'link_424', 'id': 'id_424'}, page_content='[ТРАНСЛЯЦИЯ, Управление трансляцией]\\nЗапрос: Как настроить OBS Studio для проведения трансляций на RUTUBE? \\nОтвет: Вывод \\n1.1 ТРАНСЛЯЦИЯ\\n\\nУправление битрейтом – CBR\\n\\nБитрейт – 6000 Kbps\\n\\nИнтервал ключевых кадров – 1s (это обновление кадров)\\n\\nПредустановка использования ЦП– Slower\\n\\nПрофиль – high\\n\\n1.2 ЗАПИСЬ\\n\\nКодировщик видео – выбрать в соответствии с имеющейся видеокартой \\n\\nДля NVIDIA есть соответствующие кодеки:\\n\\n-NVIDIA NVENC H.264\\n\\n-NVIDIA NVENC HEVC\\n\\nДля других видеоадаптеров можно выбрать любой другой\\n\\nУправление битрейтом – CQP\\n\\nЗначение CQ – 15\\n\\nИнтервал ключевых кадров – 2 s\\n\\nПредустановка – Медленное (хорошее качество)\\n\\nРегулировка – Высокое качество\\n\\n1.3 БУФЕР ПОВТОРНА НЕ МЕНЯЕМ\\n\\n\\n\\nАудио\\n2.1 ГЛОБАЛЬНЫЕ УСТРОЙСТВА АУДИО\\n\\nМикрофон/дополнительный звук - тут добавляем микрофон, который подключен к ПК, он будет основным микрофоном на трансляции\\n\\n\\n\\n2.2 ИЗМЕРИТЕЛИ\\n\\nСкорость спада – быстро\\n\\nТип измерителя пиков – Упрощенный\\n\\nВидео\\n3.1 Разрешение ставим, ориентируясь на разрешения вашего экрана ПК. Смотрим в настройках ПК разрешение экрана, выставляем такое же в первых двух полях – «Базовое разрешение» и «Разрешение выхода».\\n\\n3.2 ФИЛЬТР МАСШАБИРОВАНИЯ\\n\\nВсегда ставим – Метод Ланцоша (Четкое масштабирование, 36 выборок)\\n\\nВажно – Фильтр нужно ставить тогда, когда базовое разрешение и разрешение выхода не совпадают.\\n\\n3.3 ОБЩИЕ ЗНАЧЕНИЯ ЧАСТОТЫ КАДРОВ\\n\\nСтавим 60 кадров, на 30 кадрах нет смысла вести трансляцию, по крайней мере, игры на 30 кадрах стримить - плохая идея. 30 кадров – мало, есть вероятность, что картинка будет не очень плавная.\\n\\n3.4 ГОРЯЧИЕ КЛАВИШИ \\n\\nНастраиваем по желанию, но не желательно, если нет опыта, потому что можно случайно завершить трансляцию.\\n\\nПункты в разделе «Горячие клавиши» обновляются в зависимости от добавленных источников на главной странице ОБС. Например, добавляете устройство вывода «Камера», в Горячих клавишах появится пункт «Камера». Пункт добавляется с точно таким же названием как на главном экране.\\n\\nСпец. Возможности \\nНе трогаем.\\n\\nРасширенные\\n5.1 ОБЩИЕ\\n\\nПриоритет процесса – Выше среднего\\n\\n5.2 АВТОМАТИЧЕСКОЕ ПЕРЕПОДКЛЮЧЕНИЕ\\n\\nСтавим галочку в поле «Включить»\\n\\nЗадержка повтора – 1 s\\n\\nЗадержка потока – не трогаем, галочка не должна стоять\\n\\nМакс. повторных попыток – 25 (оставляем стандартное значение)\\n\\n\\n\\nПосле настройки всех настроек жмем «Применить», затем «Ок». Мы настроили программу, теперь нужно добавить Сцены и Источники.\\n\\n\\n\\nСЦЕНЫ\\nДобавляем одну сцену. Называем ее, например, «Трансляция».\\n\\nИСТОЧНИКИ\\nВсе источники добавляются на +. Добавляются любые по желанию, в зависимости от того, что вам нужно. Ниже описаны основные источники.\\n\\n2.1 КАМЕРА\\n\\nНажимаем на +, выбираем «Устройство захвата видео», переименовываем на «Камера». Ставим галочку в поле «Сделать устройство видимым».\\n\\nВыбираем камеру, ее настройки тут не трогаем. Нажимаем «Ок».\\n\\nКамеру можно отзеркалить. Для этого ПКМ (правая кнопка мыши) нажимаем на Камера – Преобразовать – Отразить по горизонтали.\\n\\n2.2 ФОН\\n\\nНажимаем на +, выбираем «Изображение». Можем назвать источник «Фон». Нажимаем на «Обзор», выбираем нужно изображение с вашего ПК, галочки не ставим.\\n\\n2.3 ЗАХВАТ ОКНА\\n\\nИсточник захватывает только открытые приложения. Например, браузер.\\n\\n2.4 ЗАХВАТ ЭКРАНА\\n\\nДанный источник захватывает общую картинку вашего компьютера.\\n\\n2.4 СБОР\\n\\nЕсли у вас настроен донат через сайт донатов, можно добавить плашку на стрим, которая будет отображаться в режиме реального времени. Сбор удобен тем, что зрители видят потребность и цель. Зрители не всегда читают описание трансляции '),\n",
       " Document(metadata={'source': 'link_505', 'id': 'id_505'}, page_content='[ПРЕДЛОЖЕНИЯ, Монетизация]\\nЗапрос: Как подключить монетизацию, если я физлицо?\\nОтвет: Увы, физлицам монетизация недоступна, зато доступна самозанятым. Стать самозанятым можно за пару минут через приложение «Мой налог».  '),\n",
       " Document(metadata={'source': 'link_485', 'id': 'id_485'}, page_content='[ПРЕДЛОЖЕНИЯ, Монетизация]\\nЗапрос: Как подключить монетизацию, если я физлицо?\\nОтвет: Увы, физлицам монетизация недоступна, зато доступна самозанятым. Стать самозанятым можно за пару минут через приложение «Мой налог».  '),\n",
       " Document(metadata={'source': 'link_506', 'id': 'id_506'}, page_content='[ПРЕДЛОЖЕНИЯ, Монетизация]\\nЗапрос: Как подключить монетизацию, если я физлицо?\\nОтвет: Увы, физлицам монетизация недоступна, зато доступна самозанятым. Стать самозанятым можно за пару минут через приложение «Мой налог».  ')]"
      ]
     },
     "execution_count": 63,
     "metadata": {},
     "output_type": "execute_result"
    }
   ],
   "source": [
    "top_docs"
   ]
  },
  {
   "cell_type": "code",
   "execution_count": 33,
   "metadata": {},
   "outputs": [
    {
     "data": {
      "text/plain": [
       "[Document(metadata={'source': 'link_169', 'id': 'id_169'}, page_content='Нет ограничений. Рекомендуются бесплатные ПО OBS Studio (https://obsproject.com/ru) и VMix (https://www.vmix.com/).'),\n",
       " Document(metadata={'source': 'link_197', 'id': 'id_197'}, page_content='Сканы паспорта, ИНН, СНИЛС и справка о постановке на учёт в налоговой или справка из приложения «Мой налог», если вы самозанятый/ая. Для ИП и юрлица нужно будет добавить документы о регистрации и выписку из ЕГРИП/ЕГРЮЛ.'),\n",
       " Document(metadata={'source': 'link_35', 'id': 'id_35'}, page_content='На данный момент в приложении такой возможности нет, но вы можете подключиться к партнерской программе в веб-версии Студии в разделе \"Монетизация\": ссылка Подробнее про подключение к партнерской программе: https://rutube.ru/info/monetization'),\n",
       " Document(metadata={'source': 'link_147', 'id': 'id_147'}, page_content='Необходимо соблюдать условия Пользовательского соглашения: https://rutube.ru/info/agreement/. Модераторы могут заблокировать эфир за нарушения.'),\n",
       " Document(metadata={'source': 'link_204', 'id': 'id_204'}, page_content='Увы, физлицам монетизация недоступна, зато доступна самозанятым. Стать самозанятым можно за пару минут через приложение «Мой налог».  ')]"
      ]
     },
     "execution_count": 33,
     "metadata": {},
     "output_type": "execute_result"
    }
   ],
   "source": [
    "top_docs = fusion_retrieval(vectorstore, bm25, query, k=5, alpha=0.1)\n",
    "top_docs"
   ]
  },
  {
   "cell_type": "code",
   "execution_count": 17,
   "metadata": {},
   "outputs": [],
   "source": [
    "import math\n",
    "import re\n",
    "\n",
    "\n",
    "def compute_ndcg(ground_truth_urls: list, retrieved_urls: list, k=None) -> float:\n",
    "    \"\"\"\n",
    "    Функция для вывода NDCG для одного запроса.\n",
    "\n",
    "    Parameters:\n",
    "    ground_truth_urls (list): Список URL-адресов (ground truth).\n",
    "    retrieved_urls (list): Список URL-адресов, извлеченных ретриверов.\n",
    "    k (int, optional): Позиция ранга, до которой рассчитывается NDCG.\n",
    "\n",
    "    Returns:\n",
    "    float: Оценка NDCG для запроса.\n",
    "    \"\"\"\n",
    "    if k is None:\n",
    "        k = len(retrieved_urls)\n",
    "\n",
    "    dcg = 0.0\n",
    "    for i in range(min(k, len(retrieved_urls))):\n",
    "        rel_i = 1 if retrieved_urls[i] in ground_truth_urls else 0\n",
    "        if rel_i > 0:\n",
    "            dcg += rel_i / math.log2(i + 2)\n",
    "\n",
    "    idcg = 0.0\n",
    "    for i in range(min(k, len(ground_truth_urls))):\n",
    "        idcg += 1 / math.log2(i + 2)\n",
    "\n",
    "    ndcg = dcg / idcg if idcg > 0 else 0.0\n",
    "    return ndcg\n"
   ]
  },
  {
   "cell_type": "code",
   "execution_count": 24,
   "metadata": {},
   "outputs": [
    {
     "data": {
      "text/plain": [
       "['link_169', 'link_197', 'link_35', 'link_63', 'link_286']"
      ]
     },
     "execution_count": 24,
     "metadata": {},
     "output_type": "execute_result"
    }
   ],
   "source": [
    "top_docs\n",
    "sources = [doc.metadata['source'] for doc in top_docs]\n",
    "sources"
   ]
  },
  {
   "cell_type": "code",
   "execution_count": 25,
   "metadata": {},
   "outputs": [],
   "source": [
    "new_columns = {'fusion_retrieval_bge': []}\n",
    "\n",
    "for idx, row in df.iterrows():\n",
    "    user_query = row['question']\n",
    "    top_docs = fusion_retrieval(vectorstore, bm25, user_query, k=5, alpha=0.5)\n",
    "    result = [doc.metadata['source'] for doc in top_docs]\n",
    "    ids = result\n",
    "    \n",
    "    new_columns['fusion_retrieval_bge'].append(ids)    \n",
    "\n",
    "df['fusion_retrieval_bge'] = new_columns['fusion_retrieval_bge']"
   ]
  },
  {
   "cell_type": "code",
   "execution_count": 31,
   "metadata": {},
   "outputs": [
    {
     "data": {
      "text/plain": [
       "0.008642728114441518"
      ]
     },
     "execution_count": 31,
     "metadata": {},
     "output_type": "execute_result"
    }
   ],
   "source": [
    "df['ndcg_score'] = df.apply(lambda row: compute_ndcg([row['sources']], row['fusion_retrieval_bge']), axis=1)\n",
    "df['ndcg_score'].mean()"
   ]
  },
  {
   "cell_type": "code",
   "execution_count": null,
   "metadata": {},
   "outputs": [],
   "source": []
  }
 ],
 "metadata": {
  "kernelspec": {
   "display_name": ".venv",
   "language": "python",
   "name": "python3"
  },
  "language_info": {
   "codemirror_mode": {
    "name": "ipython",
    "version": 3
   },
   "file_extension": ".py",
   "mimetype": "text/x-python",
   "name": "python",
   "nbconvert_exporter": "python",
   "pygments_lexer": "ipython3",
   "version": "3.10.13"
  }
 },
 "nbformat": 4,
 "nbformat_minor": 2
}
